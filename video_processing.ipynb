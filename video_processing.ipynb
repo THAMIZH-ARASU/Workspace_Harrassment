{
 "cells": [
  {
   "cell_type": "code",
   "execution_count": 1,
   "id": "7a3c427b-b4ac-4bcf-be4e-ce4380ab22b9",
   "metadata": {},
   "outputs": [],
   "source": [
    "import cv2\n",
    "import os\n",
    "import pandas as pd\n",
    "from tqdm import tqdm"
   ]
  },
  {
   "cell_type": "code",
   "execution_count": 2,
   "id": "0b94aa3e-7fb4-4f20-a884-62810b3195b7",
   "metadata": {},
   "outputs": [],
   "source": [
    "harrasment_yes_videos = r'DATA\\video\\harrasment_yes'\n",
    "harrasment_no_videos = r'DATA\\video\\harrasment_no'\n",
    "\n",
    "output_dir = r'preprocessed_images'\n",
    "csv_filename = r'frames_info.csv'"
   ]
  },
  {
   "cell_type": "code",
   "execution_count": 5,
   "id": "1cff6248-242b-4a32-b5ae-06b16e8f7fb8",
   "metadata": {},
   "outputs": [],
   "source": [
    "def process_videos(video_dir, label):\n",
    "    video_files = [file for file in os.listdir(video_dir) if file.endswith('.mp4')]\n",
    "    frames_info = []\n",
    "\n",
    "    for video_file in tqdm(video_files):\n",
    "        video_name = os.path.splitext(video_file)[0] \n",
    "        os.makedirs(output_dir, exist_ok=True)\n",
    "        \n",
    "        video_path = os.path.join(video_dir, video_file) \n",
    "        cap = cv2.VideoCapture(video_path) \n",
    "        \n",
    "        frame_count = 0 \n",
    "        \n",
    "        while cap.isOpened():       \n",
    "            ret, frame = cap.read()\n",
    "            if not ret:\n",
    "                break\n",
    "            \n",
    "            frame_filename = f\"{video_name}_frame_{frame_count:04d}.jpg\"\n",
    "            frame_path = os.path.join(output_dir, frame_filename)\n",
    "            \n",
    "            cv2.imwrite(frame_path, frame) \n",
    "            \n",
    "            frames_info.append({'video_file': video_file, 'frame_filename': frame_path, 'label': label})\n",
    "            \n",
    "            frame_count += 1\n",
    "        \n",
    "        cap.release()\n",
    "\n",
    "    return frames_info"
   ]
  },
  {
   "cell_type": "code",
   "execution_count": null,
   "id": "9706873f-0cad-4547-bf6f-b170044199d3",
   "metadata": {},
   "outputs": [],
   "source": [
    "harrasment_yes_frames = process_videos(harrasment_yes_videos, label = 1)\n",
    "harasment_no_frames = process_videos(harrasment_no_videos, label = 0)"
   ]
  },
  {
   "cell_type": "code",
   "execution_count": null,
   "id": "65e2772a-6cb2-4ee9-9969-cf4e9b226ba8",
   "metadata": {},
   "outputs": [],
   "source": [
    "frames_info = harrasment_yes_frames + harasment_no_frames"
   ]
  },
  {
   "cell_type": "code",
   "execution_count": null,
   "id": "c277c41a-db1b-4aee-96be-cd08a749564f",
   "metadata": {},
   "outputs": [],
   "source": [
    "# Create a DataFrame from frames_info list\n",
    "frames_df = pd.DataFrame(frames_info)\n",
    "\n",
    "# Save the DataFrame to a CSV file\n",
    "frames_df.to_csv(csv_filename, index=False)\n",
    "\n",
    "print(\"Frames extraction and CSV creation completed.\")"
   ]
  }
 ],
 "metadata": {
  "kernelspec": {
   "display_name": "Python 3 (ipykernel)",
   "language": "python",
   "name": "python3"
  },
  "language_info": {
   "codemirror_mode": {
    "name": "ipython",
    "version": 3
   },
   "file_extension": ".py",
   "mimetype": "text/x-python",
   "name": "python",
   "nbconvert_exporter": "python",
   "pygments_lexer": "ipython3",
   "version": "3.12.6"
  }
 },
 "nbformat": 4,
 "nbformat_minor": 5
}
