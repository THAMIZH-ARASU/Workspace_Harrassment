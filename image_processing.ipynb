{
 "cells": [
  {
   "cell_type": "code",
   "execution_count": 2,
   "id": "f091f2ae-466c-46e9-bf34-de460c8b8b3b",
   "metadata": {},
   "outputs": [],
   "source": [
    "import cv2                              # for capturing videos\n",
    "import math                             # for mathematical operations\n",
    "import matplotlib.pyplot as plt         # for plotting the images\n",
    "%matplotlib inline\n",
    "import pandas as pd\n",
    "from keras._tf_keras.keras.preprocessing import image   # for preprocessing the images\n",
    "import numpy as np                      # for mathematical operations\n",
    "from keras._tf_keras.keras.utils import to_categorical\n",
    "from skimage.transform import resize    # for resizing images\n",
    "from sklearn.model_selection import train_test_split\n",
    "from glob import glob\n",
    "from tqdm import tqdm"
   ]
  },
  {
   "cell_type": "code",
   "execution_count": 14,
   "id": "5fec1e3e-5437-4370-a23d-418db796c645",
   "metadata": {},
   "outputs": [],
   "source": [
    "#loading all image locations as a list\n",
    "\n",
    "images_yes = glob(r'DATA\\image\\harrasment_yes\\*.*')\n",
    "images_no = glob(r'DATA\\image\\harrasment_no\\*.*')\n",
    "images = images_yes + images_no"
   ]
  },
  {
   "cell_type": "code",
   "execution_count": 15,
   "id": "9212bb69-ab52-4dfc-a28a-24c399a224bd",
   "metadata": {},
   "outputs": [
    {
     "data": {
      "text/plain": [
       "457"
      ]
     },
     "execution_count": 15,
     "metadata": {},
     "output_type": "execute_result"
    }
   ],
   "source": [
    "len(images)"
   ]
  },
  {
   "cell_type": "code",
   "execution_count": 17,
   "id": "de231c3a-29b2-4d12-9163-0a79d8247404",
   "metadata": {},
   "outputs": [
    {
     "name": "stdout",
     "output_type": "stream",
     "text": [
      "Content saved to csv\n"
     ]
    }
   ],
   "source": [
    "train_class = []\n",
    "j = 0\n",
    "for i in images:\n",
    "    j += 1\n",
    "    if (j <= len(images_yes)):\n",
    "        train_class.append(1)\n",
    "    else:\n",
    "        train_class.append(0)\n",
    "\n",
    "train_data = pd.DataFrame()\n",
    "train_data['image'] = images\n",
    "train_data['class'] = train_class\n",
    "\n",
    "train_data.to_csv('image_data.csv', header = True, index = False)\n",
    "print(\"Content saved to csv\")"
   ]
  },
  {
   "cell_type": "code",
   "execution_count": null,
   "id": "b80a0512-8989-47fd-b6dc-e3a446142219",
   "metadata": {},
   "outputs": [],
   "source": []
  }
 ],
 "metadata": {
  "kernelspec": {
   "display_name": "Python 3 (ipykernel)",
   "language": "python",
   "name": "python3"
  },
  "language_info": {
   "codemirror_mode": {
    "name": "ipython",
    "version": 3
   },
   "file_extension": ".py",
   "mimetype": "text/x-python",
   "name": "python",
   "nbconvert_exporter": "python",
   "pygments_lexer": "ipython3",
   "version": "3.12.6"
  }
 },
 "nbformat": 4,
 "nbformat_minor": 5
}
